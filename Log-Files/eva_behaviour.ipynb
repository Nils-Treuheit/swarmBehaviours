{
 "cells": [
  {
   "cell_type": "code",
   "execution_count": 1,
   "metadata": {},
   "outputs": [],
   "source": [
    "%matplotlib widget\n",
    "\n",
    "import matplotlib.pyplot as plt\n",
    "import pandas as pd\n",
    "import numpy as np\n",
    "from glob import glob\n",
    "from os import getcwd, path as path_lib\n",
    "import math\n",
    "\n",
    "log_path = path_lib.join(getcwd(), \"ConSteer\")\n",
    "scene_path = path_lib.join(getcwd().split(\"\\\\\")[0].upper()+\"\\\\\",*getcwd().split(\"\\\\\")[1:-1],\"Project-Code\",\"Scenarios\",\"All_2Cop.csv\")\n",
    "# for scene_path use scene.csv not scene_swarm_position.csv file path\n",
    "# for log_path link to drone log file directory that matches with the scene"
   ]
  },
  {
   "cell_type": "code",
   "execution_count": 2,
   "metadata": {},
   "outputs": [
    {
     "data": {
      "text/plain": [
       "True"
      ]
     },
     "execution_count": 2,
     "metadata": {},
     "output_type": "execute_result"
    }
   ],
   "source": [
    "drone_ids = [*range(50,52)]\n",
    "files = glob(path_lib.join(log_path,\"*.log\"))\n",
    "\n",
    "len(files) == len(drone_ids)"
   ]
  },
  {
   "cell_type": "code",
   "execution_count": 3,
   "metadata": {},
   "outputs": [
    {
     "name": "stdout",
     "output_type": "stream",
     "text": [
      "dict_keys([50, 51])\n",
      "-> protocol from drone 50: \n",
      "   first_timestamp: 0.02931\n",
      "   first_pos: [52.13591652, 11.64344738]\n",
      "   timestamp_amount: 317\n",
      "-> protocol from drone 51: \n",
      "   first_timestamp: 0.02931\n",
      "   first_pos: [52.13741233, 11.64344738]\n",
      "   timestamp_amount: 317\n"
     ]
    }
   ],
   "source": [
    "drone_protocol = dict()\n",
    "\n",
    "for d_id,file_path in zip(drone_ids,files):\n",
    "    drone_protocol[d_id] = dict()\n",
    "    with open(file_path,\"r\") as file:\n",
    "        lines = file.readlines()\n",
    "        for line in lines[1:-1]:\n",
    "            key = float(line.split(\"]\")[0].strip(\"[\").strip())\n",
    "            pos = [float(coord.strip()) for coord in line.split(\"pos:\")[-1].split(\"/\")[0].split(\",\")]\n",
    "            drone_protocol[d_id][key] = pos\n",
    "\n",
    "print(drone_protocol.keys())\n",
    "for key in drone_protocol.keys():\n",
    "    print(\"-> protocol from drone \"+str(key)+\": \")\n",
    "    print(\"   first_timestamp:\",list(drone_protocol[key].keys())[0])\n",
    "    print(\"   first_pos:\",drone_protocol[key][list(drone_protocol[key].keys())[0]])\n",
    "    print(\"   timestamp_amount:\",len(drone_protocol[key].keys()))\n"
   ]
  },
  {
   "cell_type": "code",
   "execution_count": 4,
   "metadata": {},
   "outputs": [
    {
     "name": "stdout",
     "output_type": "stream",
     "text": [
      "dict_keys(['att', 'rep', 'spawn'])\n",
      "-> atts in scene: \n",
      "   first_att: [52.13716576, 11.64242715]\n",
      "   att_amount: 1\n",
      "-> reps in scene: \n",
      "   first_rep: [52.13741576, 11.64354715]\n",
      "   rep_amount: 3\n",
      "-> spawns in scene: \n",
      "   first_spawn: [52.13591576, 11.64344715]\n",
      "   spawn_amount: 2\n"
     ]
    }
   ],
   "source": [
    "scene = dict()\n",
    "\n",
    "with open(scene_path, \"r\") as file:\n",
    "    lines = file.readlines()\n",
    "    for line in lines[2:]:\n",
    "        vals = [val.strip() for val in line.split(\",\")]\n",
    "        scene[vals[-1]] = scene.get(vals[-1], [])\n",
    "        scene[vals[-1]].append([round(float(vals[0]),8),round(float(vals[1]),8)])\n",
    "\n",
    "print(scene.keys())\n",
    "for key in scene.keys():\n",
    "    print(\"-> \"+str(key)+\"s in scene: \")\n",
    "    print(\"   first_\"+str(key)+\":\",scene[key][0])\n",
    "    print(\"   \"+str(key)+\"_amount:\",len(scene[key]))"
   ]
  },
  {
   "cell_type": "markdown",
   "metadata": {},
   "source": [
    "GOAL Achievement Analysis"
   ]
  },
  {
   "cell_type": "code",
   "execution_count": 5,
   "metadata": {},
   "outputs": [
    {
     "name": "stdout",
     "output_type": "stream",
     "text": [
      "Drone 51 reached ATT_Point 0 approximately 103.669472sec after simulation start.\n"
     ]
    }
   ],
   "source": [
    "reached = {}\n",
    "for timestamp in drone_protocol[list(drone_protocol.keys())[0]].keys():\n",
    "    for d_id in drone_protocol.keys():\n",
    "        for att_id, att in enumerate(scene[\"att\"]):\n",
    "            if abs(drone_protocol[d_id][timestamp][0] - att[0]) < 0.00001 \\\n",
    "            and abs(drone_protocol[d_id][timestamp][1] - att[1]) < 0.00001 \\\n",
    "            and not reached.get(str(d_id)+\"->\"+str(att_id), None):\n",
    "                reached[str(d_id)+\"->\"+str(att_id)] = timestamp\n",
    "\n",
    "for key in reached.keys():\n",
    "    print(\"Drone\",key.split(\"->\")[0],\"reached ATT_Point\",key.split(\"->\")[1],\"approximately\",\n",
    "    str(reached[key])+\"sec after simulation start.\")"
   ]
  },
  {
   "cell_type": "markdown",
   "metadata": {},
   "source": [
    "DANGER Avoidance Analysis"
   ]
  },
  {
   "cell_type": "code",
   "execution_count": 6,
   "metadata": {},
   "outputs": [
    {
     "name": "stdout",
     "output_type": "stream",
     "text": [
      "Smallest distance between Drone 50 and REP_Point 0 was 0.000916832319m and occured 73.374657sec after simulation start.\n",
      "Smallest distance between Drone 50 and REP_Point 1 was 0.000813987257m and occured 81.745590sec after simulation start.\n",
      "Smallest distance between Drone 50 and REP_Point 2 was 0.000779376644m and occured 75.766350sec after simulation start.\n",
      "Smallest distance between Drone 51 and REP_Point 0 was 0.000098969455m and occured 28.729662sec after simulation start.\n",
      "Smallest distance between Drone 51 and REP_Point 1 was 0.000075050656m and occured 35.107517sec after simulation start.\n",
      "Smallest distance between Drone 51 and REP_Point 2 was 0.000053835769m and occured 33.513054sec after simulation start.\n"
     ]
    }
   ],
   "source": [
    "min_dist = {}\n",
    "for timestamp in drone_protocol[list(drone_protocol.keys())[0]].keys():\n",
    "    for d_id in drone_protocol.keys():\n",
    "        for rep_id, rep in enumerate(scene[\"rep\"]):\n",
    "            dist = round(math.sqrt((drone_protocol[d_id][timestamp][0] - rep[0])**2 + \n",
    "                   (drone_protocol[d_id][timestamp][1] - rep[1])**2),12)\n",
    "            if not min_dist.get(str(d_id)+\"->\"+str(rep_id), None) \\\n",
    "            or dist < min_dist[str(d_id)+\"->\"+str(rep_id)][1]:\n",
    "                min_dist[str(d_id)+\"->\"+str(rep_id)] = [timestamp, dist]\n",
    "\n",
    "for key in min_dist.keys():\n",
    "    print(\"Smallest distance between Drone\",key.split(\"->\")[0],\"and REP_Point\",key.split(\"->\")[1],\n",
    "    \"was {0:.12f}m and occured\".format(min_dist[key][1]),\n",
    "    \"{0:.6f}sec after simulation start.\".format(min_dist[key][0]))"
   ]
  }
 ],
 "metadata": {
  "interpreter": {
   "hash": "570feb405e2e27c949193ac68f46852414290d515b0ba6e5d90d076ed2284471"
  },
  "kernelspec": {
   "display_name": "Python 3.8.0 64-bit",
   "language": "python",
   "name": "python3"
  },
  "language_info": {
   "codemirror_mode": {
    "name": "ipython",
    "version": 3
   },
   "file_extension": ".py",
   "mimetype": "text/x-python",
   "name": "python",
   "nbconvert_exporter": "python",
   "pygments_lexer": "ipython3",
   "version": "3.8.0"
  },
  "orig_nbformat": 4
 },
 "nbformat": 4,
 "nbformat_minor": 2
}
